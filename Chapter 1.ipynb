{
 "cells": [
  {
   "cell_type": "markdown",
   "metadata": {},
   "source": [
    "# Chapter 1\n",
    "## Getting Started\n",
    "### Exercise 1\n",
    "Do some simple arithmetic, try `1+1`. To execute a cell, press `<Shift>` + `<Enter>` (`<Maj>` + `<Entrée>` on some French keyboards). Other possible operators as `-`, `/`, `*`, and `**`.\n",
    "\n",
    "Use the \\[+\\] button in the toolbar at the top to make more cells if you need them. They will appear under your currently selected cell."
   ]
  },
  {
   "cell_type": "code",
   "execution_count": null,
   "metadata": {},
   "outputs": [],
   "source": []
  },
  {
   "cell_type": "code",
   "execution_count": null,
   "metadata": {},
   "outputs": [],
   "source": []
  },
  {
   "cell_type": "code",
   "execution_count": null,
   "metadata": {},
   "outputs": [],
   "source": []
  },
  {
   "cell_type": "code",
   "execution_count": null,
   "metadata": {},
   "outputs": [],
   "source": []
  },
  {
   "cell_type": "markdown",
   "metadata": {},
   "source": [
    "Suppose we want to calculate the sine of 3. The first thing you might try is"
   ]
  },
  {
   "cell_type": "code",
   "execution_count": null,
   "metadata": {},
   "outputs": [],
   "source": []
  },
  {
   "cell_type": "markdown",
   "metadata": {},
   "source": [
    "However, that doesn't work. This is because the math functions are located in a package that we need to import first using `import` as we saw in the slides before."
   ]
  },
  {
   "cell_type": "code",
   "execution_count": null,
   "metadata": {},
   "outputs": [],
   "source": [
    "import math"
   ]
  },
  {
   "cell_type": "code",
   "execution_count": null,
   "metadata": {},
   "outputs": [],
   "source": []
  },
  {
   "cell_type": "markdown",
   "metadata": {},
   "source": [
    "Notice that we have to put the name of the package first, followed by a period and then the function.\n",
    "\n",
    "To get help on any function, type `help(functionname)`"
   ]
  },
  {
   "cell_type": "code",
   "execution_count": null,
   "metadata": {},
   "outputs": [],
   "source": [
    "help(math.sin)"
   ]
  },
  {
   "cell_type": "markdown",
   "metadata": {},
   "source": [
    "## Text\n",
    "You can type text between cell by changing the cell type from \"Code\" to \"Markdown\" in the drop down menu in the toolbar at the top. This lets you write reports with code embedded. It uses a special language called \"Markdown\" which is plain text with some formatting.\n",
    "\n",
    "* Text can be made *italic* by using single asterisks `*This will be italic*`\n",
    "* Text can be made **bold** by using double asterisks `**This will be bold**`\n",
    "* Or ***combined*** with triple asterisks `***This will be both***`\n",
    "\n",
    "Headers are possible with `#`. The more you use, the higher the level.\n",
    "# Level 1\n",
    "`# Level 1`\n",
    "## Level 2\n",
    "`## Level 2`\n",
    "### Level 3\n",
    "`### Level 3`\n",
    "\n",
    "For the full Markdown specification, see <https://sourceforge.net/p/jupiter/wiki/markdown_syntax/>\n",
    "\n",
    "### Exercise 2\n",
    "Claim your notebook! Enter your name below and make Python bold. Press `<Shift>`+`<Enter>` to display. Don't forget to change the cell type. Double-click the text to enter edit mode again."
   ]
  },
  {
   "cell_type": "code",
   "execution_count": null,
   "metadata": {},
   "outputs": [],
   "source": [
    "# Notebook of ...\n",
    "Today we will learn Python!"
   ]
  },
  {
   "cell_type": "markdown",
   "metadata": {},
   "source": [
    "## Reading data\n",
    "We will use a package called pandas for reading data. It makes it much easier to load and manipulate data and is extensively used in many fields. We will import it now."
   ]
  },
  {
   "cell_type": "code",
   "execution_count": null,
   "metadata": {},
   "outputs": [],
   "source": [
    "import pandas as pd\n",
    "import numpy as np\n",
    "\n",
    "# The line below one is only needed for this workshop\n",
    "from done import imdone, quizanswer"
   ]
  },
  {
   "cell_type": "markdown",
   "metadata": {},
   "source": [
    "Notice that we used `import pandas as pd`. This does the same as `import pandas` but it renames the package to the shorter name `pd`. Now every time we want to use a function from pandas, we only need to type `pd.somefunction()` instead of `pandas.somefunction()`.\n",
    "\n",
    "To read in data we will use the `read_csv` function which, as the name implies, can read in a CSV file. CSV stands for Comma Separated Values and is one of the most common format. Even Excel allows exporting to CSV."
   ]
  },
  {
   "cell_type": "code",
   "execution_count": null,
   "metadata": {},
   "outputs": [],
   "source": [
    "mpg = pd.read_csv(\"data/mpg.csv\")"
   ]
  },
  {
   "cell_type": "markdown",
   "metadata": {},
   "source": [
    "Note about reading data: it is reading relative to the current working directory."
   ]
  },
  {
   "cell_type": "markdown",
   "metadata": {},
   "source": [
    "### Viewing data\n",
    "Several functions exist to look at the data. The simplest is to write the variable and execute it."
   ]
  },
  {
   "cell_type": "code",
   "execution_count": null,
   "metadata": {},
   "outputs": [],
   "source": []
  },
  {
   "cell_type": "markdown",
   "metadata": {},
   "source": [
    "This is a very long list. We can use the functions `head` and `tail` to just look at a small piece."
   ]
  },
  {
   "cell_type": "code",
   "execution_count": null,
   "metadata": {},
   "outputs": [],
   "source": []
  },
  {
   "cell_type": "code",
   "execution_count": null,
   "metadata": {},
   "outputs": [],
   "source": []
  },
  {
   "cell_type": "markdown",
   "metadata": {},
   "source": [
    "We can also query what the column names are with `columns` and what types of data the columns have with `dtypes`."
   ]
  },
  {
   "cell_type": "code",
   "execution_count": null,
   "metadata": {},
   "outputs": [],
   "source": []
  },
  {
   "cell_type": "code",
   "execution_count": null,
   "metadata": {},
   "outputs": [],
   "source": []
  },
  {
   "cell_type": "markdown",
   "metadata": {},
   "source": [
    "## Accessing subsets of data\n",
    "When working with data we often just want to use a specific subset of the data. We can access the columns using the format `dataframe.column name` or `dataframe[\"column name\"]`. They do the same thing, but the second form is easier when there are spaces in the column name.\n",
    "\n",
    "Rows can be extracted by specifying the range you want like `dataframe[start:end]` or with `dataframe.loc[start:end]` or with `dataframe.iloc[start:end]`."
   ]
  },
  {
   "cell_type": "code",
   "execution_count": null,
   "metadata": {},
   "outputs": [],
   "source": [
    "mpg.model.head()"
   ]
  },
  {
   "cell_type": "code",
   "execution_count": null,
   "metadata": {},
   "outputs": [],
   "source": [
    "mpg[2:4]"
   ]
  },
  {
   "cell_type": "code",
   "execution_count": null,
   "metadata": {},
   "outputs": [],
   "source": [
    "mpg.iloc[[1,4,8]]"
   ]
  },
  {
   "cell_type": "code",
   "execution_count": null,
   "metadata": {},
   "outputs": [],
   "source": [
    "mpg[\"model\"][2:4]"
   ]
  },
  {
   "cell_type": "markdown",
   "metadata": {},
   "source": [
    "### Exercise 2\n",
    "1. Find the 10th to 20th row of the DataFrame.\n",
    "1. Show only the class column.\n",
    "1. (Advanced) Show the columns manufacturer and model for rows 2, 4, 8, 13"
   ]
  },
  {
   "cell_type": "code",
   "execution_count": null,
   "metadata": {},
   "outputs": [],
   "source": []
  },
  {
   "cell_type": "code",
   "execution_count": null,
   "metadata": {},
   "outputs": [],
   "source": []
  },
  {
   "cell_type": "code",
   "execution_count": null,
   "metadata": {},
   "outputs": [],
   "source": []
  },
  {
   "cell_type": "code",
   "execution_count": null,
   "metadata": {},
   "outputs": [],
   "source": [
    "# Running this cell will let me know you have completed this exercise.\n",
    "# Yes, I'm using Python to help me with the Python workshop!\n",
    "imdone(1,2)"
   ]
  },
  {
   "cell_type": "markdown",
   "metadata": {},
   "source": [
    "Another handy function for DataFrames is `describe()` which calculates a few of the numerical properties to quickly examine your data."
   ]
  },
  {
   "cell_type": "code",
   "execution_count": null,
   "metadata": {},
   "outputs": [],
   "source": []
  },
  {
   "cell_type": "markdown",
   "metadata": {},
   "source": [
    "## Data sanitization\n",
    "Never trust your data. Surveys can be filled in incorrectly, conventions can change, lots of things can happen. We will use a dataset I grabbed from [Ontario's Open Data platform](https://data.ontario.ca) containing all of the names of babies born in Ontario for the past 100 years. The data is already on our Jupyter Hub space similar to `data/mpg.csv` we used before. The new data set is called `data/babynames.csv`.\n",
    "\n",
    "### Exercise 3\n",
    "Load the dataset and call the new object `babynames`."
   ]
  },
  {
   "cell_type": "code",
   "execution_count": null,
   "metadata": {},
   "outputs": [],
   "source": []
  },
  {
   "cell_type": "code",
   "execution_count": null,
   "metadata": {},
   "outputs": [],
   "source": [
    "imdone(1,3)"
   ]
  },
  {
   "cell_type": "markdown",
   "metadata": {},
   "source": [
    "Since this is actual data collected by many municipalities and other government office, many of which by hand, there is likely going to be some erroneous data.\n",
    "\n",
    "One mistake might be that people put in initials. So let's check the fields. We'll use a bit of data manipulation here which we will talk about more in chapter 3."
   ]
  },
  {
   "cell_type": "code",
   "execution_count": null,
   "metadata": {},
   "outputs": [],
   "source": [
    "babynames[babynames[\"name\"].map(len) == 1][\"name\"].unique()"
   ]
  },
  {
   "cell_type": "markdown",
   "metadata": {},
   "source": [
    "This seems like the data were just initials. That's probably not right.\n",
    "\n",
    "How about names with two letters?"
   ]
  },
  {
   "cell_type": "code",
   "execution_count": null,
   "metadata": {},
   "outputs": [],
   "source": [
    "babynames[babynames[\"name\"].map(len) == 2][\"name\"].unique()"
   ]
  },
  {
   "cell_type": "markdown",
   "metadata": {},
   "source": [
    "# BREAK TIME!\n",
    "You may get the follow error when we start again\n",
    "\n",
    "<img src=\"images/connection_failed.png\" />\n",
    "\n",
    "This means the connection with the kernel has timed out and you need to go to <https://uottawa.syzygy.ca> and log in again."
   ]
  },
  {
   "cell_type": "code",
   "execution_count": null,
   "metadata": {},
   "outputs": [],
   "source": []
  }
 ],
 "metadata": {
  "kernelspec": {
   "display_name": "Python 3",
   "language": "python",
   "name": "python3"
  },
  "language_info": {
   "codemirror_mode": {
    "name": "ipython",
    "version": 3
   },
   "file_extension": ".py",
   "mimetype": "text/x-python",
   "name": "python",
   "nbconvert_exporter": "python",
   "pygments_lexer": "ipython3",
   "version": "3.7.3"
  }
 },
 "nbformat": 4,
 "nbformat_minor": 4
}
