{
 "cells": [
  {
   "cell_type": "markdown",
   "metadata": {},
   "source": [
    "# Chapter 2\n",
    "## Plotting"
   ]
  },
  {
   "cell_type": "markdown",
   "metadata": {},
   "source": [
    "Package you have loaded are not shared between notebooks. For each notebook you need to import the libraries again."
   ]
  },
  {
   "cell_type": "code",
   "execution_count": null,
   "metadata": {},
   "outputs": [],
   "source": [
    "from matplotlib import pyplot as plt\n",
    "import pandas as pd\n",
    "import numpy as np\n",
    "import seaborn as sns\n",
    "\n",
    "sns.set()\n",
    "\n",
    "# The line below one is only needed for this workshop\n",
    "from done import imdone, quizanswer"
   ]
  },
  {
   "cell_type": "code",
   "execution_count": null,
   "metadata": {},
   "outputs": [],
   "source": [
    "# Make figures bigger in presentation\n",
    "from matplotlib import rcParams\n",
    "rcParams['figure.dpi'] = 144"
   ]
  },
  {
   "cell_type": "markdown",
   "metadata": {},
   "source": [
    "# Visualizing data with Seaborn\n",
    "Visualizing data is an important part of data science. Just one single graph can make a relation clear as day. We will be using the Python package Seaborn which is built upon matplotlib but is much more user-friendly.\n",
    "\n",
    "We will be focusing on a dataset showing the fuel economy data for 38 models of cars.\n",
    "\n",
    "First load the data set from the supplied file `mpg.csv`."
   ]
  },
  {
   "cell_type": "code",
   "execution_count": null,
   "metadata": {},
   "outputs": [],
   "source": [
    "mpg = pd.read_csv(\"data/mpg.csv\")"
   ]
  },
  {
   "cell_type": "code",
   "execution_count": null,
   "metadata": {},
   "outputs": [],
   "source": [
    "mpg.head(10)"
   ]
  },
  {
   "cell_type": "markdown",
   "metadata": {},
   "source": [
    "### Meaning of the fields\n",
    "| Field | Description |\n",
    "| :---: | :--- |\n",
    "| manufacturer | manufacturer name |\n",
    "| model | model name |\n",
    "| displ | engine displacement, in litres |\n",
    "| year | year of manufacture |\n",
    "| cyl | number of cylinders |\n",
    "| trans | type of transmission |\n",
    "| drv | the type of drive train, where<br>f = front-wheel drive, r = rear wheel drive, 4 = 4wd |\n",
    "| cty | city miles per gallon |\n",
    "| hwy | highway miles per gallon |\n",
    "| fl | fuel type |\n",
    "| class | \"type\" of car |"
   ]
  },
  {
   "cell_type": "markdown",
   "metadata": {},
   "source": [
    "### Quiz 2.1\n",
    "What relationship do you expect to see between engine size (displ) and mileage (hwy)?\n",
    "\n",
    "Put your answers in the chat!\n",
    "<div style=\"margin-bottom: 20em;\"> </div>"
   ]
  },
  {
   "cell_type": "markdown",
   "metadata": {},
   "source": [
    "Let's examine this by plotting the graph using the Seaborn plotting package that we imported as `sns`. We will use the `scatterplot` function."
   ]
  },
  {
   "cell_type": "code",
   "execution_count": null,
   "metadata": {},
   "outputs": [],
   "source": [
    "sns.scatterplot(\"displ\", \"hwy\", color=\"black\", data=mpg)"
   ]
  },
  {
   "cell_type": "markdown",
   "metadata": {},
   "source": [
    "We see a definite downward trend for engine size (displ) versus milage (hwy). This is to be expected. Bigger cars have bigger engines and those get less milage. However, there are some points that float above the trend with big engines but reasonable good milage.\n",
    "\n",
    "### Quiz 2.2\n",
    "What do you think this could be? Put your answers in the chat!\n",
    "<div style=\"margin-bottom: 20em;\"> </div>"
   ]
  },
  {
   "cell_type": "markdown",
   "metadata": {},
   "source": [
    "To find out, we want to highlight more of the fields we have available. Luckily, `sns.relplot` let's you specify this through in the form of colour, shape, and size. Another tool we have are facets which makes separate plots for different categories. We'll start with colour which is done through the `hue` argument.\n",
    "\n",
    "So let's display some more data.\n",
    "\n",
    "### Quiz 2.3\n",
    "The fields we have in the data set are `manufacturer`, `model`, `displ`, `year`, `cyl`, `trans`, `drv`, `cty`, `hwy`, `fl`, `class`. See the table above for the meaning of these fields.\n",
    "\n",
    "Which one should we try? Put your answers in the chat!\n",
    "<div style=\"margin-bottom: 20em;\"> </div>"
   ]
  },
  {
   "cell_type": "code",
   "execution_count": null,
   "metadata": {},
   "outputs": [],
   "source": [
    "sns.scatterplot(\"displ\", \"hwy\", hue=\"...\", data=mpg)\n",
    "\n",
    "# This line will place the legend outside the plotting area.\n",
    "plt.legend(bbox_to_anchor=(1.05, 1), loc=2, borderaxespad=0.)"
   ]
  },
  {
   "cell_type": "code",
   "execution_count": null,
   "metadata": {},
   "outputs": [],
   "source": []
  },
  {
   "cell_type": "code",
   "execution_count": null,
   "metadata": {},
   "outputs": [],
   "source": []
  },
  {
   "cell_type": "markdown",
   "metadata": {},
   "source": [
    "We can also control the size and shape of the markers to convey additional information. You can give meaning to the size by using the `size` parameter and to the shape by using the `style` parameter. They work the same as the `hue` parameter.\n",
    "\n",
    "### Exercise 2.1\n",
    "Try it out! You can even combine the parameters. Note how the legend automatically keeps track of everything for you. Warning: There is one combination that will throw an error, but that's ok.\n",
    "\n",
    "Remember that you can make new cells with the \\[+\\] button in the toolbar.\n",
    "\n",
    "When you are done, run the `imdone(2,1)` cell."
   ]
  },
  {
   "cell_type": "code",
   "execution_count": null,
   "metadata": {},
   "outputs": [],
   "source": [
    "sns.scatterplot(\"displ\", \"hwy\", ... , data=mpg)\n",
    "plt.legend(bbox_to_anchor=(1.05, 1), loc=2, borderaxespad=0.)"
   ]
  },
  {
   "cell_type": "code",
   "execution_count": null,
   "metadata": {},
   "outputs": [],
   "source": []
  },
  {
   "cell_type": "code",
   "execution_count": null,
   "metadata": {},
   "outputs": [],
   "source": []
  },
  {
   "cell_type": "code",
   "execution_count": null,
   "metadata": {},
   "outputs": [],
   "source": [
    "imdone(2,1)"
   ]
  },
  {
   "cell_type": "markdown",
   "metadata": {},
   "source": [
    "## Discrete versus continuous\n",
    "\n",
    "There is a difference between discrete variables, like `class`, and continuous variables, like `hwy`. You may have noticed that if you used `hue` with `displ` that you get a continuous range of colours."
   ]
  },
  {
   "cell_type": "code",
   "execution_count": null,
   "metadata": {},
   "outputs": [],
   "source": [
    "sns.scatterplot(\"displ\", \"hwy\", hue=\"displ\" , data=mpg)"
   ]
  },
  {
   "cell_type": "markdown",
   "metadata": {},
   "source": [
    "But if you use a discrete variable, like `class`, you get primary colours."
   ]
  },
  {
   "cell_type": "code",
   "execution_count": null,
   "metadata": {},
   "outputs": [],
   "source": [
    "sns.scatterplot(\"displ\", \"hwy\", hue=\"class\" , data=mpg)\n",
    "plt.legend(bbox_to_anchor=(1.05, 1), loc=2, borderaxespad=0.)"
   ]
  },
  {
   "cell_type": "markdown",
   "metadata": {},
   "source": [
    "The same applies to `size` although it is less obvious there. However for the shape of the markers (`style`), you get an error if you try to use a continuous variable. This makes sense, you can't have a continuous transformation from one marker to the other."
   ]
  },
  {
   "cell_type": "markdown",
   "metadata": {},
   "source": [
    "## Facets\n",
    "Facets are multiple plots that can show different subsections of your data depending on field value. In essence, this is another discrete variable like `style` but instead of showing different markers, it shows different plots.\n",
    "\n",
    "We need to use a different plotting function, `relplot`, for this.\n",
    "\n",
    "The `col` argument lets you create these facets while `col_wrap` tells `sns.relplot` how many columns per row are allowed."
   ]
  },
  {
   "cell_type": "code",
   "execution_count": null,
   "metadata": {},
   "outputs": [],
   "source": [
    "sns.relplot(\"displ\", \"hwy\", col=\"class\", data=mpg, col_wrap=3)"
   ]
  },
  {
   "cell_type": "markdown",
   "metadata": {},
   "source": [
    "Of course you can combine this with `hue`, `size`, and `style`."
   ]
  },
  {
   "cell_type": "code",
   "execution_count": null,
   "metadata": {},
   "outputs": [],
   "source": [
    "sns.relplot(\"displ\", \"hwy\", col=\"class\", style=\"drv\", data=mpg, col_wrap=3)"
   ]
  },
  {
   "cell_type": "markdown",
   "metadata": {},
   "source": [
    "## Formatting\n",
    "All of the plotting functions automatically takes the axes names from the dataset. It's not a very great name though. Also we are missing plot titles and such."
   ]
  },
  {
   "cell_type": "code",
   "execution_count": null,
   "metadata": {},
   "outputs": [],
   "source": [
    "p = sns.scatterplot(\"displ\", \"hwy\", hue=\"class\", data=mpg)\n",
    "p.set_title(\"Fuel Efficiency by Engine Size\\nData facetted by class\")\n",
    "p.set_xlabel(\"Engine Size (displacement in liters)\")\n",
    "p.set_ylabel(\"Fuel Efficiency (MPG)\")\n",
    "p.legend(bbox_to_anchor=(1.05, 1), loc=2, borderaxespad=0.).texts[0].set_text(\"Vehicle Class\")"
   ]
  },
  {
   "cell_type": "markdown",
   "metadata": {},
   "source": [
    "Plot that use facet grids like `relplot` have a slightly different syntax. Note that since we don't specify `row` or `col` that we only get a 1x1 facet plot."
   ]
  },
  {
   "cell_type": "code",
   "execution_count": null,
   "metadata": {},
   "outputs": [],
   "source": [
    "p = sns.relplot(\"displ\", \"hwy\", hue=\"class\", data=mpg)\n",
    "p.axes[0][0].set_title(\"Fuel Efficiency by Engine Size\\nData facetted by class\")\n",
    "p.set_xlabels(\"Engine Size (displacement in liters)\")\n",
    "p.set_ylabels(\"Fuel Efficiency (MPG)\")\n",
    "p._legend.texts[0].set_text('Vehicle Class')"
   ]
  },
  {
   "cell_type": "markdown",
   "metadata": {},
   "source": [
    "## Other plot types\n",
    "There is more than just `sns.scatterplot` and `sns.relplot`. All the plot types are listed at <https://seaborn.pydata.org/api.html>\n",
    "\n",
    "### Exercise 2.2 (5 min)\n",
    "Go to the website and have a look at the plots that are available. Click on a plot and scroll down to see the examples. Also look at the parameters that are available for each plot."
   ]
  },
  {
   "cell_type": "code",
   "execution_count": null,
   "metadata": {},
   "outputs": [],
   "source": []
  },
  {
   "cell_type": "code",
   "execution_count": null,
   "metadata": {},
   "outputs": [],
   "source": []
  },
  {
   "cell_type": "code",
   "execution_count": null,
   "metadata": {},
   "outputs": [],
   "source": []
  },
  {
   "cell_type": "code",
   "execution_count": null,
   "metadata": {},
   "outputs": [],
   "source": []
  },
  {
   "cell_type": "markdown",
   "metadata": {},
   "source": [
    "### Exercise 2.3\n",
    "Recreate this figure (don't worry about overlapping words, we haven't covered that yet):\n",
    "<img src=\"images/boxplot.png\" />"
   ]
  },
  {
   "cell_type": "code",
   "execution_count": null,
   "metadata": {},
   "outputs": [],
   "source": []
  },
  {
   "cell_type": "code",
   "execution_count": null,
   "metadata": {},
   "outputs": [],
   "source": []
  },
  {
   "cell_type": "code",
   "execution_count": null,
   "metadata": {},
   "outputs": [],
   "source": [
    "imdone(2,3)"
   ]
  },
  {
   "cell_type": "code",
   "execution_count": null,
   "metadata": {},
   "outputs": [],
   "source": []
  },
  {
   "cell_type": "markdown",
   "metadata": {},
   "source": [
    "Changing font size is pretty tricky with Seaborn. One way of doing it is\n",
    "```\n",
    "p.set_xticklabels(p.get_xticklabels(), size = 8)\n",
    "p.set_yticklabels(p.get_yticks(), size = 8)\n",
    "```\n",
    "The first line works for continuous ranges, the second for discrete."
   ]
  },
  {
   "cell_type": "markdown",
   "metadata": {},
   "source": [
    "### Exercise 2.4\n",
    "Let's try to create a histogram now (HINT: Remember how to get column data)\n",
    "<img src=\"images/histogram.png\" />"
   ]
  },
  {
   "cell_type": "code",
   "execution_count": null,
   "metadata": {},
   "outputs": [],
   "source": []
  },
  {
   "cell_type": "code",
   "execution_count": null,
   "metadata": {},
   "outputs": [],
   "source": []
  },
  {
   "cell_type": "code",
   "execution_count": null,
   "metadata": {},
   "outputs": [],
   "source": [
    "imdone(2,4)"
   ]
  },
  {
   "cell_type": "code",
   "execution_count": null,
   "metadata": {},
   "outputs": [],
   "source": []
  },
  {
   "cell_type": "markdown",
   "metadata": {},
   "source": [
    "## Saving plots\n",
    "One way is to right-click images in the notebook and click \"Save As...\". However, you can also save them with the `savefig` function which will work outside of notebooks as well and is especially useful if you need to save lots of figures. It will also let you specify the format. For instance, you can save figures in SVG for infinite resolution."
   ]
  },
  {
   "cell_type": "code",
   "execution_count": null,
   "metadata": {},
   "outputs": [],
   "source": [
    "p.get_figure().savefig(\"images/histogram.png\")"
   ]
  },
  {
   "cell_type": "markdown",
   "metadata": {},
   "source": [
    "## Combining plots\n",
    "Plots can be combined by putting both plots in the same cell. However, this does not work for plot functions that output a FacetGrid plot unfortunately."
   ]
  },
  {
   "cell_type": "code",
   "execution_count": null,
   "metadata": {},
   "outputs": [],
   "source": [
    "sns.scatterplot(\"displ\", \"hwy\", hue=\"class\", data=mpg)\n",
    "sns.lineplot(\"displ\", \"hwy\", data=mpg)"
   ]
  },
  {
   "cell_type": "markdown",
   "metadata": {},
   "source": [
    "## Changing the colour scheme\n",
    "Seaborn uses palettes to get different colour schemes. These come from matplotlib that seaborn is based on. You can also define your own. You set palettes with the function `sns.color_palette` or friends. If you put this at the top of your notebook, all plots will use this palette. You can also specify the pallete per individual plots.\n",
    "\n",
    "The full list of palette functions is available at <https://seaborn.pydata.org/api.html#color-palettes>\n",
    "\n",
    "You can preview them with `sns.palplot`."
   ]
  },
  {
   "cell_type": "code",
   "execution_count": null,
   "metadata": {},
   "outputs": [],
   "source": [
    "sns.palplot(sns.color_palette(\"Blues_d\", 10))"
   ]
  },
  {
   "cell_type": "code",
   "execution_count": null,
   "metadata": {},
   "outputs": [],
   "source": [
    "sns.palplot(sns.diverging_palette(240, 10, n=9))"
   ]
  },
  {
   "cell_type": "code",
   "execution_count": null,
   "metadata": {},
   "outputs": [],
   "source": [
    "with sns.diverging_palette(240, 10, n=7):\n",
    "    sns.scatterplot(\"displ\", \"hwy\", hue=\"class\", data=mpg)"
   ]
  },
  {
   "cell_type": "markdown",
   "metadata": {},
   "source": [
    "## Where to go from here?\n",
    "There are many examples of plots in the gallery\n",
    "<https://seaborn.pydata.org/examples/index.html>\n",
    "\n",
    "The code is available and often the only thing you need to change is the name of the dataset and which columns to plot."
   ]
  },
  {
   "cell_type": "markdown",
   "metadata": {},
   "source": [
    "# LUNCH TIME"
   ]
  },
  {
   "cell_type": "code",
   "execution_count": null,
   "metadata": {},
   "outputs": [],
   "source": []
  }
 ],
 "metadata": {
  "kernelspec": {
   "display_name": "Python 3",
   "language": "python",
   "name": "python3"
  },
  "language_info": {
   "codemirror_mode": {
    "name": "ipython",
    "version": 3
   },
   "file_extension": ".py",
   "mimetype": "text/x-python",
   "name": "python",
   "nbconvert_exporter": "python",
   "pygments_lexer": "ipython3",
   "version": "3.7.3"
  }
 },
 "nbformat": 4,
 "nbformat_minor": 4
}
