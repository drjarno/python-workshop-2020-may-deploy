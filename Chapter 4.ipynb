{
 "cells": [
  {
   "cell_type": "markdown",
   "metadata": {},
   "source": [
    "# Chapter 4\n",
    "## Basic scripting\n",
    "We'll step away from using pandas and seaborn here for the moment. This chapter is unrelated to those packages, so we don't have to load them."
   ]
  },
  {
   "cell_type": "code",
   "execution_count": 3,
   "metadata": {},
   "outputs": [],
   "source": [
    "\n",
    "# This line is only needed for this workshop\n",
    "from done import imdone"
   ]
  },
  {
   "cell_type": "markdown",
   "metadata": {},
   "source": [
    "## Repeating actions\n",
    "Suppose you have a number of files you would like to analyze. One possibility it to copy-paste your code but that is inefficient. Instead we will use `for` loops.\n",
    "\n",
    "We'll use a simple example where we would like to print the letter in the word \"lead\". One way of doing this is:"
   ]
  },
  {
   "cell_type": "code",
   "execution_count": 2,
   "metadata": {},
   "outputs": [
    {
     "name": "stdout",
     "output_type": "stream",
     "text": [
      "l\n",
      "e\n",
      "a\n",
      "d\n"
     ]
    }
   ],
   "source": [
    "word = \"lead\"\n",
    "print(word[0])\n",
    "print(word[1])\n",
    "print(word[2])\n",
    "print(word[3])"
   ]
  },
  {
   "cell_type": "markdown",
   "metadata": {},
   "source": [
    "But this is very cumbersome. For example, if we want to use the same code to print the letters of the word \"tin\", you'd have to remove the last print statement or you will get an error."
   ]
  },
  {
   "cell_type": "code",
   "execution_count": 3,
   "metadata": {},
   "outputs": [
    {
     "name": "stdout",
     "output_type": "stream",
     "text": [
      "t\n",
      "i\n",
      "n\n"
     ]
    },
    {
     "ename": "IndexError",
     "evalue": "string index out of range",
     "output_type": "error",
     "traceback": [
      "\u001b[0;31m---------------------------------------------------------------------------\u001b[0m",
      "\u001b[0;31mIndexError\u001b[0m                                Traceback (most recent call last)",
      "\u001b[0;32m<ipython-input-3-6476c52f2f59>\u001b[0m in \u001b[0;36m<module>\u001b[0;34m\u001b[0m\n\u001b[1;32m      3\u001b[0m \u001b[0mprint\u001b[0m\u001b[0;34m(\u001b[0m\u001b[0mword\u001b[0m\u001b[0;34m[\u001b[0m\u001b[0;36m1\u001b[0m\u001b[0;34m]\u001b[0m\u001b[0;34m)\u001b[0m\u001b[0;34m\u001b[0m\u001b[0;34m\u001b[0m\u001b[0m\n\u001b[1;32m      4\u001b[0m \u001b[0mprint\u001b[0m\u001b[0;34m(\u001b[0m\u001b[0mword\u001b[0m\u001b[0;34m[\u001b[0m\u001b[0;36m2\u001b[0m\u001b[0;34m]\u001b[0m\u001b[0;34m)\u001b[0m\u001b[0;34m\u001b[0m\u001b[0;34m\u001b[0m\u001b[0m\n\u001b[0;32m----> 5\u001b[0;31m \u001b[0mprint\u001b[0m\u001b[0;34m(\u001b[0m\u001b[0mword\u001b[0m\u001b[0;34m[\u001b[0m\u001b[0;36m3\u001b[0m\u001b[0;34m]\u001b[0m\u001b[0;34m)\u001b[0m\u001b[0;34m\u001b[0m\u001b[0;34m\u001b[0m\u001b[0m\n\u001b[0m",
      "\u001b[0;31mIndexError\u001b[0m: string index out of range"
     ]
    }
   ],
   "source": [
    "word = \"tin\"\n",
    "print(word[0])\n",
    "print(word[1])\n",
    "print(word[2])\n",
    "print(word[3])"
   ]
  },
  {
   "cell_type": "markdown",
   "metadata": {},
   "source": [
    "Instead we will use a `for` loop."
   ]
  },
  {
   "cell_type": "code",
   "execution_count": 4,
   "metadata": {},
   "outputs": [
    {
     "name": "stdout",
     "output_type": "stream",
     "text": [
      "l\n",
      "e\n",
      "a\n",
      "d\n"
     ]
    }
   ],
   "source": [
    "word = \"lead\"\n",
    "for letter in word:\n",
    "    print(letter)"
   ]
  },
  {
   "cell_type": "markdown",
   "metadata": {},
   "source": [
    "This is easily scalable. We can use much longer words and it will just work."
   ]
  },
  {
   "cell_type": "code",
   "execution_count": 5,
   "metadata": {},
   "outputs": [
    {
     "name": "stdout",
     "output_type": "stream",
     "text": [
      "o\n",
      "x\n",
      "y\n",
      "g\n",
      "e\n",
      "n\n"
     ]
    }
   ],
   "source": [
    "word = \"oxygen\"\n",
    "for letter in word:\n",
    "    print(letter)"
   ]
  },
  {
   "cell_type": "markdown",
   "metadata": {},
   "source": [
    "The general form of a `for` loop in Python is:\n",
    "```\n",
    "for variable in collection:\n",
    "    # do things using variable, such as print\n",
    "```\n",
    "Note the indentation we have been using. This is very important in Python. It tell Python what part of the code is supposed to be looped over."
   ]
  },
  {
   "cell_type": "markdown",
   "metadata": {},
   "source": [
    "### Quiz 4.1\n",
    "What would be the output of\n",
    "```\n",
    "word = \"copper\"\n",
    "for letter in word:\n",
    "    print(letter)\n",
    "    print(\".\")\n",
    "```\n",
    "Type your answer in the chat! Try to predict without running the code.\n",
    "\n",
    "<div style=\"margin-bottom: 20em;\" />"
   ]
  },
  {
   "cell_type": "code",
   "execution_count": null,
   "metadata": {},
   "outputs": [],
   "source": []
  },
  {
   "cell_type": "markdown",
   "metadata": {},
   "source": [
    "### Quiz 4.2\n",
    "And what would be the output of\n",
    "```\n",
    "word = \"copper\"\n",
    "for letter in word:\n",
    "    print(letter)\n",
    "print(\".\")\n",
    "```\n",
    "Type your answer in the chat! Try to predict without running the code.\n",
    "\n",
    "<div style=\"margin-bottom: 20em;\" />"
   ]
  },
  {
   "cell_type": "code",
   "execution_count": null,
   "metadata": {},
   "outputs": [],
   "source": []
  },
  {
   "cell_type": "markdown",
   "metadata": {},
   "source": [
    "## Variables and `for` loops"
   ]
  },
  {
   "cell_type": "markdown",
   "metadata": {},
   "source": [
    "Variables are available inside loops and can be updated as well."
   ]
  },
  {
   "cell_type": "code",
   "execution_count": 8,
   "metadata": {},
   "outputs": [
    {
     "name": "stdout",
     "output_type": "stream",
     "text": [
      "7\n"
     ]
    }
   ],
   "source": [
    "# Count the number of letters in a word\n",
    "length = 0\n",
    "word = \"pancake\"\n",
    "for letter in word:\n",
    "    length = length + 1\n",
    "print(length)"
   ]
  },
  {
   "cell_type": "markdown",
   "metadata": {},
   "source": [
    "Note that the function `len(word)` exists for counting the number of letters in a string. The above was just for demonstration purposes."
   ]
  },
  {
   "cell_type": "markdown",
   "metadata": {},
   "source": [
    "### Quiz 4.3\n",
    "What do you think the following code will output?\n",
    "```\n",
    "letter = \"z\"\n",
    "length = 0\n",
    "word = \"abc\"\n",
    "for letter in word:\n",
    "    length = length + 1\n",
    "print(letter)\n",
    "```\n",
    "Type your answer in the chat! Try to predict without running the code.\n",
    "\n",
    "<div style=\"margin-bottom: 20em;\" />"
   ]
  },
  {
   "cell_type": "code",
   "execution_count": null,
   "metadata": {},
   "outputs": [],
   "source": []
  },
  {
   "cell_type": "markdown",
   "metadata": {},
   "source": [
    "## More looping\n",
    "Often you want to run your loop over a range of numbers. Python provides the function `range(start, end, increment)` or just `range(length)` for that."
   ]
  },
  {
   "cell_type": "code",
   "execution_count": 9,
   "metadata": {},
   "outputs": [
    {
     "name": "stdout",
     "output_type": "stream",
     "text": [
      "2\n",
      "3\n",
      "4\n",
      "5\n"
     ]
    }
   ],
   "source": [
    "for i in range(2, 6):\n",
    "    print(i)"
   ]
  },
  {
   "cell_type": "code",
   "execution_count": 10,
   "metadata": {},
   "outputs": [
    {
     "name": "stdout",
     "output_type": "stream",
     "text": [
      "0\n",
      "1\n",
      "2\n",
      "3\n"
     ]
    }
   ],
   "source": [
    "for i in range(4):\n",
    "    print(i)"
   ]
  },
  {
   "cell_type": "markdown",
   "metadata": {},
   "source": [
    "Another useful function for looping is `enumerate(collection)` which will provide the index as well as the element of the collection."
   ]
  },
  {
   "cell_type": "code",
   "execution_count": 12,
   "metadata": {},
   "outputs": [
    {
     "name": "stdout",
     "output_type": "stream",
     "text": [
      "Letter 0 is b\n",
      "Letter 1 is e\n",
      "Letter 2 is a\n",
      "Letter 3 is r\n"
     ]
    }
   ],
   "source": [
    "word = \"bear\"\n",
    "for index, value in enumerate(word):\n",
    "    print(f\"Letter {index} is {value}\")"
   ]
  },
  {
   "cell_type": "markdown",
   "metadata": {},
   "source": [
    "### Exercise 4.1\n",
    "Print the first, third, fifth, and so on letters of the alphabet by replacing the `...` below with the appropriate `for` loop. When you are done, run the `imdone()` function below."
   ]
  },
  {
   "cell_type": "code",
   "execution_count": null,
   "metadata": {},
   "outputs": [],
   "source": [
    "alphabet = \"abcdefghijklmnopqrstquvwxyz\"\n",
    "..."
   ]
  },
  {
   "cell_type": "code",
   "execution_count": null,
   "metadata": {},
   "outputs": [],
   "source": []
  },
  {
   "cell_type": "code",
   "execution_count": null,
   "metadata": {},
   "outputs": [],
   "source": []
  },
  {
   "cell_type": "code",
   "execution_count": 20,
   "metadata": {},
   "outputs": [
    {
     "name": "stdout",
     "output_type": "stream",
     "text": [
      "a\n",
      "c\n",
      "e\n",
      "g\n",
      "i\n",
      "k\n",
      "m\n",
      "o\n",
      "q\n",
      "s\n",
      "u\n",
      "w\n",
      "y\n"
     ]
    }
   ],
   "source": [
    "# Solution\n",
    "alphabet = \"abcdefghijklmnopqrstuvwxyz\"\n",
    "for i in range(0, len(alphabet), 2):\n",
    "    print(alphabet[i])"
   ]
  },
  {
   "cell_type": "code",
   "execution_count": null,
   "metadata": {},
   "outputs": [],
   "source": [
    "imdone(4,1)"
   ]
  },
  {
   "cell_type": "markdown",
   "metadata": {},
   "source": [
    "### Exercise 4.2\n",
    "Reverse the word stressed by replacing the `...` below with the appropriate `for` loop. When you are done, run the `imdone()` function below.\n",
    "\n",
    "HINT: You can add strings to create new one, `'a' + 'b'` results in `'ab'`."
   ]
  },
  {
   "cell_type": "code",
   "execution_count": 27,
   "metadata": {},
   "outputs": [],
   "source": [
    "word = \"stressed\"\n",
    "..."
   ]
  },
  {
   "cell_type": "code",
   "execution_count": null,
   "metadata": {},
   "outputs": [],
   "source": []
  },
  {
   "cell_type": "code",
   "execution_count": null,
   "metadata": {},
   "outputs": [],
   "source": []
  },
  {
   "cell_type": "code",
   "execution_count": 28,
   "metadata": {},
   "outputs": [
    {
     "name": "stdout",
     "output_type": "stream",
     "text": [
      "desserts\n"
     ]
    }
   ],
   "source": [
    "# Solution\n",
    "word = \"stressed\"\n",
    "reverse = \"\"\n",
    "for letter in word:\n",
    "    reverse = letter + reverse\n",
    "print(reverse)"
   ]
  },
  {
   "cell_type": "code",
   "execution_count": null,
   "metadata": {},
   "outputs": [],
   "source": [
    "imdone(4,2)"
   ]
  },
  {
   "cell_type": "markdown",
   "metadata": {},
   "source": [
    "## Conditional action\n",
    "Sometimes you want to perform an action on if certain conditions are met. For this Python supports `if` statements. The format is:\n",
    "```\n",
    "if condition:\n",
    "    do something\n",
    "elif othercondition:\n",
    "    do something else\n",
    "else:\n",
    "    do the other cases\n",
    "```\n",
    "You can repeat the `elif` as many times as you like.\n",
    "\n",
    "For example:"
   ]
  },
  {
   "cell_type": "code",
   "execution_count": 30,
   "metadata": {},
   "outputs": [
    {
     "name": "stdout",
     "output_type": "stream",
     "text": [
      "num is larger than 20\n",
      "done\n"
     ]
    }
   ],
   "source": [
    "num = 25\n",
    "if num > 20:\n",
    "    print(\"num is larger than 20\")\n",
    "else:\n",
    "    print(\"num is not larger than 20\")\n",
    "print(\"done\")"
   ]
  },
  {
   "cell_type": "markdown",
   "metadata": {},
   "source": [
    "It is helpful to see `if` statements as flow charts\n",
    "<img src=\"https://swcarpentry.github.io/python-novice-inflammation/fig/python-flowchart-conditional.png\" />\n",
    "\n",
    "The code returns to the same path after the `if` statement has completed.\n",
    "\n",
    "Multiple conditions can be combined with `and` and `or` and `not`."
   ]
  },
  {
   "cell_type": "code",
   "execution_count": 32,
   "metadata": {},
   "outputs": [
    {
     "name": "stdout",
     "output_type": "stream",
     "text": [
      "num lies between 10 and 40\n"
     ]
    }
   ],
   "source": [
    "num = 25\n",
    "if (num > 10) and (num < 40):\n",
    "    print(\"num lies between 10 and 40\")\n",
    "    \n",
    "if not num > 10:\n",
    "    print(\"num is not greater than 10\")"
   ]
  },
  {
   "cell_type": "markdown",
   "metadata": {},
   "source": [
    "### Quiz 4.4\n",
    "Suppose `num` is 25, are the following conditions True or False?\n",
    "\n",
    "1. `(num > 10) or (num < 15)`\n",
    "1. `not (num > 10) and (num > 15)`\n",
    "1. `(num > 10) and ((num < 30) or (num > 25))`\n",
    "\n",
    "Type your answer in the chat! Try to predict without running the code."
   ]
  },
  {
   "cell_type": "markdown",
   "metadata": {},
   "source": [
    "### Quiz 4.5\n",
    "What do you think will happen if multiple conditions are true in an `if`/`elif` statement? For example, what is the output of\n",
    "```\n",
    "num = 10\n",
    "if num > 5:\n",
    "    print(\"Num is larger than 5\")\n",
    "elif num < 20:\n",
    "    print(\"Num is smaller than 20\")\n",
    "```\n",
    "Type your answer in the chat! Try to predict without running the code."
   ]
  },
  {
   "cell_type": "markdown",
   "metadata": {},
   "source": [
    "# Building blocks\n",
    "For programming, `for` loops and its cousin `while` together with `if` statements are the main building blocks for creating programs. You can create any program with it.\n",
    "\n",
    "However, as your programs get longer and longer, it gets harder to stay organized. You will also end up with code you would like to reuse. This is where functions come in. You have aleady used funcions a lot, but now we will define our own.\n",
    "\n",
    "A function looks like this:"
   ]
  },
  {
   "cell_type": "code",
   "execution_count": 1,
   "metadata": {},
   "outputs": [],
   "source": [
    "def myfunction():\n",
    "    print(\"Hello world!\")"
   ]
  },
  {
   "cell_type": "markdown",
   "metadata": {},
   "source": [
    "You notice nothing happened when we ran that cell. This is because we only defined the function, we did not call it yet."
   ]
  },
  {
   "cell_type": "code",
   "execution_count": 2,
   "metadata": {},
   "outputs": [
    {
     "name": "stdout",
     "output_type": "stream",
     "text": [
      "Hello world!\n"
     ]
    }
   ],
   "source": [
    "myfunction()"
   ]
  },
  {
   "cell_type": "markdown",
   "metadata": {},
   "source": [
    "We can have a function that takes arguments too. We have used functions that took arguments in the previous chapters any time we put something between ( )."
   ]
  },
  {
   "cell_type": "code",
   "execution_count": 11,
   "metadata": {},
   "outputs": [],
   "source": [
    "def welcome(yourname):\n",
    "    print(f\"Welcome to my function, {yourname}!\")"
   ]
  },
  {
   "cell_type": "code",
   "execution_count": 12,
   "metadata": {},
   "outputs": [
    {
     "name": "stdout",
     "output_type": "stream",
     "text": [
      "Welcome to my function, Jarno!\n"
     ]
    }
   ],
   "source": [
    "welcome(\"Jarno\")"
   ]
  },
  {
   "cell_type": "markdown",
   "metadata": {},
   "source": [
    "Functions can also return values using the `return` statement. This will let you do calculations or other things. For example, calculating the factorial.\n",
    "\n",
    "Reminder: factorial of a number is n x (n-1) x (n-2) x ... x 1. For example, 5! = 5 x 4 x 3 x 2 x 1 = 120."
   ]
  },
  {
   "cell_type": "code",
   "execution_count": 16,
   "metadata": {},
   "outputs": [],
   "source": [
    "def factorial(n):\n",
    "    tmp = n\n",
    "    for i in range(2,n):\n",
    "        tmp = tmp * i\n",
    "    return tmp"
   ]
  },
  {
   "cell_type": "code",
   "execution_count": 26,
   "metadata": {},
   "outputs": [],
   "source": [
    "four_factorial = factorial(4)"
   ]
  },
  {
   "cell_type": "code",
   "execution_count": 27,
   "metadata": {},
   "outputs": [
    {
     "data": {
      "text/plain": [
       "24"
      ]
     },
     "execution_count": 27,
     "metadata": {},
     "output_type": "execute_result"
    }
   ],
   "source": [
    "four_factorial"
   ]
  },
  {
   "cell_type": "markdown",
   "metadata": {},
   "source": [
    "### Exercise 4.3\n",
    "Take the solution for exercise 4.2 and transform it into a function such that it returns the reverse of any word you put in. Name the function `reverse_word`."
   ]
  },
  {
   "cell_type": "code",
   "execution_count": null,
   "metadata": {},
   "outputs": [],
   "source": []
  },
  {
   "cell_type": "code",
   "execution_count": null,
   "metadata": {},
   "outputs": [],
   "source": []
  },
  {
   "cell_type": "code",
   "execution_count": 56,
   "metadata": {},
   "outputs": [],
   "source": [
    "# Solution (HIDEME)\n",
    "def reverse_word(word):\n",
    "    reverse = \"\"\n",
    "    for letter in word:\n",
    "        reverse = letter + reverse\n",
    "    return reverse"
   ]
  },
  {
   "cell_type": "code",
   "execution_count": null,
   "metadata": {},
   "outputs": [],
   "source": [
    "imdone(4,3)"
   ]
  },
  {
   "cell_type": "markdown",
   "metadata": {},
   "source": [
    "## Variables inside of functions are local\n",
    "Whenever you define a variable inside of a function, it only exists in that function. That is, it is local. The opposite is a global variable.\n",
    "\n",
    "For example, in our factorial function, we had `tmp`. Let see what the value of that is:"
   ]
  },
  {
   "cell_type": "code",
   "execution_count": 29,
   "metadata": {},
   "outputs": [
    {
     "ename": "NameError",
     "evalue": "name 'tmp' is not defined",
     "output_type": "error",
     "traceback": [
      "\u001b[0;31m---------------------------------------------------------------------------\u001b[0m",
      "\u001b[0;31mNameError\u001b[0m                                 Traceback (most recent call last)",
      "\u001b[0;32m<ipython-input-29-52a35c59c6f2>\u001b[0m in \u001b[0;36m<module>\u001b[0;34m\u001b[0m\n\u001b[0;32m----> 1\u001b[0;31m \u001b[0mtmp\u001b[0m\u001b[0;34m\u001b[0m\u001b[0;34m\u001b[0m\u001b[0m\n\u001b[0m",
      "\u001b[0;31mNameError\u001b[0m: name 'tmp' is not defined"
     ]
    }
   ],
   "source": [
    "tmp"
   ]
  },
  {
   "cell_type": "markdown",
   "metadata": {},
   "source": [
    "This even applies when a global variable with the same name already exists. For example:"
   ]
  },
  {
   "cell_type": "code",
   "execution_count": 34,
   "metadata": {},
   "outputs": [],
   "source": [
    "def set_x(value):\n",
    "    x = value\n",
    "    print(f\"x inside of set_x is {x}\")"
   ]
  },
  {
   "cell_type": "code",
   "execution_count": 37,
   "metadata": {},
   "outputs": [
    {
     "name": "stdout",
     "output_type": "stream",
     "text": [
      "x inside of set_x is 1\n",
      "x outside of the function is 14\n"
     ]
    }
   ],
   "source": [
    "x = 14\n",
    "set_x(1)\n",
    "print(f\"x outside of the function is {x}\")"
   ]
  },
  {
   "cell_type": "markdown",
   "metadata": {},
   "source": [
    "If we really want to set a variable inside of a function to be global, we have to specify with `global`. (We can always read global variables inside a function, it's the setting that is special)"
   ]
  },
  {
   "cell_type": "code",
   "execution_count": 39,
   "metadata": {},
   "outputs": [],
   "source": [
    "def set_global_x(value):\n",
    "    global x\n",
    "    x = value\n",
    "    print(f\"x inside of set_x is {x}\")"
   ]
  },
  {
   "cell_type": "code",
   "execution_count": 41,
   "metadata": {},
   "outputs": [
    {
     "name": "stdout",
     "output_type": "stream",
     "text": [
      "x inside of set_x is 1\n",
      "x outside of the function is 1\n"
     ]
    }
   ],
   "source": [
    "x = 14\n",
    "set_global_x(1)\n",
    "print(f\"x outside of the function is {x}\")"
   ]
  },
  {
   "cell_type": "markdown",
   "metadata": {},
   "source": [
    "## The guessing game\n",
    "We would like to build a small game that lets you guess a number between 0 and 100.\n",
    "\n",
    "The first step is to get a random number. Helpfully, Python provides this in the aptly named package `random`."
   ]
  },
  {
   "cell_type": "code",
   "execution_count": 42,
   "metadata": {},
   "outputs": [],
   "source": [
    "import random"
   ]
  },
  {
   "cell_type": "markdown",
   "metadata": {},
   "source": [
    "### Exercise 4.4\n",
    "How to get a random whole number between 0 and 100 from random? Use any combination of `help()`, `<Tab>` or `<Shift>+<Tab>` to find out. Also feel free to use your favourite search engine.\n",
    "\n",
    "Fill in the `...` below to assign the random number to the object `answer`."
   ]
  },
  {
   "cell_type": "code",
   "execution_count": 43,
   "metadata": {},
   "outputs": [],
   "source": [
    "answer = ..."
   ]
  },
  {
   "cell_type": "code",
   "execution_count": null,
   "metadata": {},
   "outputs": [],
   "source": []
  },
  {
   "cell_type": "code",
   "execution_count": null,
   "metadata": {},
   "outputs": [],
   "source": []
  },
  {
   "cell_type": "code",
   "execution_count": 46,
   "metadata": {},
   "outputs": [],
   "source": [
    "# Solution (HIDEME)\n",
    "answer = random.randint(0, 100)"
   ]
  },
  {
   "cell_type": "code",
   "execution_count": null,
   "metadata": {},
   "outputs": [],
   "source": [
    "imdone(4,4)"
   ]
  },
  {
   "cell_type": "markdown",
   "metadata": {},
   "source": [
    "We now have a number we would like to guess. The guessing will be done by a function that checks if the input is greater or less than the answer. If the input is the same as the answer, we win!\n",
    "\n",
    "### Exercise 4.5\n",
    "Write a function that takes a number and compares it to the answer. Use `print` to display the result. Then use this function repeatedly to guess the answer."
   ]
  },
  {
   "cell_type": "code",
   "execution_count": null,
   "metadata": {},
   "outputs": [],
   "source": []
  },
  {
   "cell_type": "code",
   "execution_count": null,
   "metadata": {},
   "outputs": [],
   "source": []
  },
  {
   "cell_type": "code",
   "execution_count": null,
   "metadata": {},
   "outputs": [],
   "source": []
  },
  {
   "cell_type": "code",
   "execution_count": null,
   "metadata": {},
   "outputs": [],
   "source": []
  },
  {
   "cell_type": "code",
   "execution_count": null,
   "metadata": {},
   "outputs": [],
   "source": [
    "imdone(4,5)"
   ]
  },
  {
   "cell_type": "markdown",
   "metadata": {},
   "source": [
    "## Combine with pandas\n",
    "pandas lets you apply functions using `aggregate` (or `agg` for short)"
   ]
  },
  {
   "cell_type": "code",
   "execution_count": 47,
   "metadata": {},
   "outputs": [],
   "source": [
    "import pandas as pd"
   ]
  },
  {
   "cell_type": "code",
   "execution_count": 57,
   "metadata": {},
   "outputs": [],
   "source": [
    "toydf = pd.DataFrame({\n",
    "    \"A\": [1,2,3,4],\n",
    "    \"B\": [\"apricot\", \"bear\", \"cub\", \"donut\"]\n",
    "})"
   ]
  },
  {
   "cell_type": "code",
   "execution_count": 60,
   "metadata": {},
   "outputs": [
    {
     "data": {
      "text/html": [
       "<div>\n",
       "<style scoped>\n",
       "    .dataframe tbody tr th:only-of-type {\n",
       "        vertical-align: middle;\n",
       "    }\n",
       "\n",
       "    .dataframe tbody tr th {\n",
       "        vertical-align: top;\n",
       "    }\n",
       "\n",
       "    .dataframe thead th {\n",
       "        text-align: right;\n",
       "    }\n",
       "</style>\n",
       "<table border=\"1\" class=\"dataframe\">\n",
       "  <thead>\n",
       "    <tr style=\"text-align: right;\">\n",
       "      <th></th>\n",
       "      <th>A</th>\n",
       "      <th>B</th>\n",
       "      <th>FacA</th>\n",
       "      <th>RevB</th>\n",
       "    </tr>\n",
       "  </thead>\n",
       "  <tbody>\n",
       "    <tr>\n",
       "      <th>0</th>\n",
       "      <td>1</td>\n",
       "      <td>apricot</td>\n",
       "      <td>1</td>\n",
       "      <td>tocirpa</td>\n",
       "    </tr>\n",
       "    <tr>\n",
       "      <th>1</th>\n",
       "      <td>2</td>\n",
       "      <td>bear</td>\n",
       "      <td>2</td>\n",
       "      <td>raeb</td>\n",
       "    </tr>\n",
       "    <tr>\n",
       "      <th>2</th>\n",
       "      <td>3</td>\n",
       "      <td>cub</td>\n",
       "      <td>6</td>\n",
       "      <td>buc</td>\n",
       "    </tr>\n",
       "    <tr>\n",
       "      <th>3</th>\n",
       "      <td>4</td>\n",
       "      <td>donut</td>\n",
       "      <td>24</td>\n",
       "      <td>tunod</td>\n",
       "    </tr>\n",
       "  </tbody>\n",
       "</table>\n",
       "</div>"
      ],
      "text/plain": [
       "   A        B  FacA     RevB\n",
       "0  1  apricot     1  tocirpa\n",
       "1  2     bear     2     raeb\n",
       "2  3      cub     6      buc\n",
       "3  4    donut    24    tunod"
      ]
     },
     "execution_count": 60,
     "metadata": {},
     "output_type": "execute_result"
    }
   ],
   "source": [
    "toydf"
   ]
  },
  {
   "cell_type": "code",
   "execution_count": 58,
   "metadata": {},
   "outputs": [],
   "source": [
    "toydf[\"FacA\"] = toydf[\"A\"].aggregate(factorial)\n",
    "toydf[\"RevB\"] = toydf[\"B\"].agg(reverse_word)"
   ]
  },
  {
   "cell_type": "code",
   "execution_count": 59,
   "metadata": {},
   "outputs": [
    {
     "data": {
      "text/html": [
       "<div>\n",
       "<style scoped>\n",
       "    .dataframe tbody tr th:only-of-type {\n",
       "        vertical-align: middle;\n",
       "    }\n",
       "\n",
       "    .dataframe tbody tr th {\n",
       "        vertical-align: top;\n",
       "    }\n",
       "\n",
       "    .dataframe thead th {\n",
       "        text-align: right;\n",
       "    }\n",
       "</style>\n",
       "<table border=\"1\" class=\"dataframe\">\n",
       "  <thead>\n",
       "    <tr style=\"text-align: right;\">\n",
       "      <th></th>\n",
       "      <th>A</th>\n",
       "      <th>B</th>\n",
       "      <th>FacA</th>\n",
       "      <th>RevB</th>\n",
       "    </tr>\n",
       "  </thead>\n",
       "  <tbody>\n",
       "    <tr>\n",
       "      <th>0</th>\n",
       "      <td>1</td>\n",
       "      <td>apricot</td>\n",
       "      <td>1</td>\n",
       "      <td>tocirpa</td>\n",
       "    </tr>\n",
       "    <tr>\n",
       "      <th>1</th>\n",
       "      <td>2</td>\n",
       "      <td>bear</td>\n",
       "      <td>2</td>\n",
       "      <td>raeb</td>\n",
       "    </tr>\n",
       "    <tr>\n",
       "      <th>2</th>\n",
       "      <td>3</td>\n",
       "      <td>cub</td>\n",
       "      <td>6</td>\n",
       "      <td>buc</td>\n",
       "    </tr>\n",
       "    <tr>\n",
       "      <th>3</th>\n",
       "      <td>4</td>\n",
       "      <td>donut</td>\n",
       "      <td>24</td>\n",
       "      <td>tunod</td>\n",
       "    </tr>\n",
       "  </tbody>\n",
       "</table>\n",
       "</div>"
      ],
      "text/plain": [
       "   A        B  FacA     RevB\n",
       "0  1  apricot     1  tocirpa\n",
       "1  2     bear     2     raeb\n",
       "2  3      cub     6      buc\n",
       "3  4    donut    24    tunod"
      ]
     },
     "execution_count": 59,
     "metadata": {},
     "output_type": "execute_result"
    }
   ],
   "source": [
    "toydf"
   ]
  },
  {
   "cell_type": "markdown",
   "metadata": {},
   "source": [
    "## Stand-alone scripts\n",
    "You do not need Jupyter notebooks to run Python. It makes it easier to teach and share but you can also run Python from the command-line with stand-alone scripts. They do their work in the background and save the results to some file.\n",
    "\n",
    "To use this, you will need to have either access to a computer with Python already installed, or you can install it on your own computer. Linux and macOS already come with Python although the macOS version is quite ancient and is very close to end-of-life. Windows does not come with Python.\n",
    "\n",
    "You can download Python at <https://python.org>.\n",
    "\n",
    "Or you can install conda which includes a package manager to more easily manage your Python packages and Python versions. There are two flavours.\n",
    "- Anaconda includes Python and almost all Python packages and thus requires quite a bit of disk space. Download at <https://www.anaconda.com/products/individual>\n",
    "- Miniconda only contains the bare minimum and you can install additional Python packages when needed. Download at <https://docs.conda.io/en/latest/miniconda.html>\n",
    "\n",
    "Whichever flavour you choose to download, make sure it's for Python version 3.x!"
   ]
  },
  {
   "cell_type": "markdown",
   "metadata": {},
   "source": [
    "## Where to go from here?\n",
    "You now have the ability to analyze data using Python and gain new insights. You are now also able to present these results in a nicely formatted Jupyter notebook and you have learned how to write functions and use `for` loops and `if` statements. Of course, this just scratched the surface.\n",
    "\n",
    "Now you \"just\" have to put this in practise. The best way to learn Python better is to use it in your research. If you have a project to use it with, you will learn all sorts of new things.\n",
    "\n",
    "Other online resources to learn more Python.\n",
    "- [LinkedIn Learning](https://www.linkedin.com/learning/search?keywords=python) has many video tutorials available with exercises.\n",
    "- The main [Python website](https://www.python.org) has many tutorial and resources available.\n",
    "\n",
    "A bit of a warning, scripts for Python 2 are generally not compatible with Python 3. Make sure the guides/tutorials/documentation is for Python 3 as Python 2 is no longer maintained.\n",
    "\n",
    "If you want to use Jupyter notebooks on your own computer, you can find the instructions to install Jupyter at <https://jupyter.org/install>. The easiest install method is in combination with conda.\n",
    "\n",
    "When your scripts become too computationally intensive to run on your computer, you can run them on the supercomputers available at Compute Canada. Usage is free and they have tens of thousands of CPUs available for you. For more information, see <https://docs.computecanada.ca/wiki/Python>"
   ]
  },
  {
   "cell_type": "markdown",
   "metadata": {},
   "source": [
    "# END"
   ]
  },
  {
   "cell_type": "code",
   "execution_count": null,
   "metadata": {},
   "outputs": [],
   "source": []
  }
 ],
 "metadata": {
  "kernelspec": {
   "display_name": "Python 3",
   "language": "python",
   "name": "python3"
  },
  "language_info": {
   "codemirror_mode": {
    "name": "ipython",
    "version": 3
   },
   "file_extension": ".py",
   "mimetype": "text/x-python",
   "name": "python",
   "nbconvert_exporter": "python",
   "pygments_lexer": "ipython3",
   "version": "3.7.3"
  }
 },
 "nbformat": 4,
 "nbformat_minor": 2
}
